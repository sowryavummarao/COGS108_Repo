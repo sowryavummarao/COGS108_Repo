{
 "cells": [
  {
   "cell_type": "markdown",
   "metadata": {},
   "source": [
    "# COGS 108 Final Project Check-In"
   ]
  },
  {
   "cell_type": "markdown",
   "metadata": {},
   "source": [
    "# Names\n",
    "- Vinay Bhupathiraju\n",
    "- Saachi Keswani\n",
    "- Milon Lonappan\n",
    "- Sowrya Vummarao \n"
   ]
  },
  {
   "cell_type": "markdown",
   "metadata": {},
   "source": [
    "# Group Members IDs\n",
    "\n",
    "- A14432633\n",
    "- A14960676\n",
    "- A15231106\n",
    "- A15115242"
   ]
  },
  {
   "cell_type": "markdown",
   "metadata": {},
   "source": [
    "# Accomplishments"
   ]
  },
  {
   "cell_type": "markdown",
   "metadata": {
    "pycharm": {
     "name": "#%% md\n",
     "is_executing": false
    }
   },
   "source": [
    "-- So far we have created the dataset that we are using for our final project, as well into going into more detail regarding\n",
    "the final inferential analysis that we are conducitng. We are planning on looking at season long statistics of individual NBA players\n",
    "and then comparing it to their overall statistical performance throughout the season. By looking at who was the most valuable player, as well \n",
    "as who was paid the most, we hope to find the strongest correlation in which performance statistic is the best indicator of season long\n",
    "performance."
   ]
  },
  {
   "cell_type": "markdown",
   "metadata": {},
   "source": [
    "# Going Well"
   ]
  },
  {
   "cell_type": "markdown",
   "metadata": {},
   "source": [
    "- We have been working great as a group, and that is probably our greatest strength. We have been getting along very well and been able \n",
    "to split up the work very well. Everyone has a significant part of the project and we hope to bring it all together to present a \n",
    "final project that displays all the knowledge and skills that we have developed over the past several weeks."
   ]
  },
  {
   "cell_type": "markdown",
   "metadata": {},
   "source": [
    "# Struggles"
   ]
  },
  {
   "cell_type": "markdown",
   "metadata": {},
   "source": [
    "- The biggest struggle that we have faced so far is finding a time for all of us to collaborate. All of us have busy schedules and it\n",
    "is quite difficult for all of us to find a time and place to meet so that we can collaborate with all the work we have done so far, \n",
    "and synthesize into something that we can put towards our final project. We know that this will happen in the near future, and we will\n",
    "be able to come together and put a project together that we are all proud of"
   ]
  },
  {
   "cell_type": "markdown",
   "metadata": {},
   "source": [
    "# Plan Forward"
   ]
  },
  {
   "cell_type": "markdown",
   "metadata": {},
   "source": [
    "- For the future, we plan to finish off our project by completely cleaning our datset, in addition to finding conclusions for our\n",
    "inferential analysis. We hope to find the most significant statistics that predict the overall performance of NBA players throughout\n",
    "the season."
   ]
  }
 ],
 "metadata": {
  "kernelspec": {
   "display_name": "Python 3",
   "language": "python",
   "name": "python3"
  },
  "language_info": {
   "codemirror_mode": {
    "name": "ipython",
    "version": 3
   },
   "file_extension": ".py",
   "mimetype": "text/x-python",
   "name": "python",
   "nbconvert_exporter": "python",
   "pygments_lexer": "ipython3",
   "version": "3.6.8"
  },
  "pycharm": {
   "stem_cell": {
    "cell_type": "raw",
    "source": [],
    "metadata": {
     "collapsed": false
    }
   }
  }
 },
 "nbformat": 4,
 "nbformat_minor": 2
}